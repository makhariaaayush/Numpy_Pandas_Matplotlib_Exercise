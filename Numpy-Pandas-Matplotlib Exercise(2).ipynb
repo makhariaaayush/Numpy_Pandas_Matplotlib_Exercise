{
 "cells": [
  {
   "cell_type": "markdown",
   "metadata": {},
   "source": [
    "The following exercises are designed to help you get familiar with the basics of numpy, pandas, and matplotlib packages. These exercises are extension of material we discuss during lecture. You can access the lecture .ipynb files to get familiar with the basics.\n",
    "\n",
    "\n",
    "In order to complete this assignment, first you need to import proper packages and read data files into proper data structures. \n",
    "\n",
    "The __deadline__ for submitting this assignment is __Friday, Feb 19__.\n",
    "Submit your solution on __Gradescope__."
   ]
  },
  {
   "cell_type": "markdown",
   "metadata": {},
   "source": [
    "# Exercises\n",
    "\n",
    "## Numpy\n",
    "\n",
    "Check out the Numpy-Basics file and read the documentation at http://www.numpy.org\n",
    "Now it's your turn to do some practice with NumPy: \n",
    "\n",
    "#### 1. Create a 1-dimensional NumPy array of 100 random integers (1 pt)\n",
    "\n",
    "1.  Find and print all the summary statistics (mean, std, median, max, min, ...)\n",
    "2.  Compare the time for finding the max using python built-in functions and NumPy corresponding function\n",
    "3. Create a new array that is the base-2 logarithm of your array"
   ]
  },
  {
   "cell_type": "code",
   "execution_count": 54,
   "metadata": {},
   "outputs": [
    {
     "name": "stdout",
     "output_type": "stream",
     "text": [
      "Array [  4  53  15  47  29  62  99  81  37  58  33  67  87  32  24  33  74  66\n",
      "   9  50  68  87  21  52  12  26   3 100  52  96  71  76  98  21  65   1\n",
      "  33  12  40  10  12  94  81  41  54  57  78  81  13   1  29  26  34   9\n",
      "  59  46  28 100  23   2  75  26  48   6  87  63  85  67   2  68  83  85\n",
      "  50  91  67  64  50  41  94  20  99  32  53  18  61  91  38  33   5  13\n",
      "  11  58  37  29  70  56  93   2  84  31]\n",
      "Sum 4858\n",
      "Mean 48.58\n",
      "Standard Deviation 29.626062850132485\n",
      "Median 50.0\n",
      "Maximum 100\n",
      "Minimum 1\n"
     ]
    }
   ],
   "source": [
    "import numpy as np\n",
    "randint = np.random.randint(0,101,size=100)\n",
    "print(\"Array\", randint)\n",
    "print(\"Sum\",np.sum(randint))\n",
    "print(\"Mean\",np.mean(randint))\n",
    "print(\"Standard Deviation\",np.std(randint))\n",
    "print(\"Median\",np.median(randint))\n",
    "print(\"Maximum\",np.max(randint))\n",
    "print(\"Minimum\",np.min(randint))\n",
    "\n",
    "\n"
   ]
  },
  {
   "cell_type": "code",
   "execution_count": 56,
   "metadata": {},
   "outputs": [
    {
     "name": "stdout",
     "output_type": "stream",
     "text": [
      "8.58 µs ± 104 ns per loop (mean ± std. dev. of 7 runs, 100000 loops each)\n",
      "2.8 µs ± 7.29 ns per loop (mean ± std. dev. of 7 runs, 100000 loops each)\n"
     ]
    }
   ],
   "source": [
    "%timeit max(randint)\n",
    "%timeit np.max(randint)\n",
    "\n"
   ]
  },
  {
   "cell_type": "code",
   "execution_count": 57,
   "metadata": {},
   "outputs": [
    {
     "data": {
      "text/plain": [
       "array([2.        , 5.72792045, 3.9068906 , 5.55458885, 4.857981  ,\n",
       "       5.95419631, 6.62935662, 6.33985   , 5.20945337, 5.857981  ,\n",
       "       5.04439412, 6.06608919, 6.4429435 , 5.        , 4.5849625 ,\n",
       "       5.04439412, 6.20945337, 6.04439412, 3.169925  , 5.64385619,\n",
       "       6.08746284, 6.4429435 , 4.39231742, 5.70043972, 3.5849625 ,\n",
       "       4.70043972, 1.5849625 , 6.64385619, 5.70043972, 6.5849625 ,\n",
       "       6.14974712, 6.24792751, 6.61470984, 4.39231742, 6.02236781,\n",
       "       0.        , 5.04439412, 3.5849625 , 5.32192809, 3.32192809,\n",
       "       3.5849625 , 6.55458885, 6.33985   , 5.357552  , 5.7548875 ,\n",
       "       5.83289001, 6.28540222, 6.33985   , 3.70043972, 0.        ,\n",
       "       4.857981  , 4.70043972, 5.08746284, 3.169925  , 5.88264305,\n",
       "       5.52356196, 4.80735492, 6.64385619, 4.52356196, 1.        ,\n",
       "       6.22881869, 4.70043972, 5.5849625 , 2.5849625 , 6.4429435 ,\n",
       "       5.97727992, 6.40939094, 6.06608919, 1.        , 6.08746284,\n",
       "       6.37503943, 6.40939094, 5.64385619, 6.50779464, 6.06608919,\n",
       "       6.        , 5.64385619, 5.357552  , 6.55458885, 4.32192809,\n",
       "       6.62935662, 5.        , 5.72792045, 4.169925  , 5.93073734,\n",
       "       6.50779464, 5.24792751, 5.04439412, 2.32192809, 3.70043972,\n",
       "       3.45943162, 5.857981  , 5.20945337, 4.857981  , 6.12928302,\n",
       "       5.80735492, 6.53915881, 1.        , 6.39231742, 4.95419631])"
      ]
     },
     "execution_count": 57,
     "metadata": {},
     "output_type": "execute_result"
    }
   ],
   "source": [
    "np.log2(randint)\n"
   ]
  },
  {
   "cell_type": "markdown",
   "metadata": {},
   "source": [
    "#### 2. Create a 2-dimensional NumPy array of (3,4) random integers (mat1) (2 pts)\n",
    "\n",
    "1. Create another 2-D array that is the square root of your original array (mat2)\n",
    "2. Find how many values are greater than 20 using np.count_nonzero(  ) function ( you can also use np.sum( )\n",
    "3. Perform a dot product between two 2-D arrays (mat3)\n",
    "4. Find all the values that are less than 10 and greater than 30 in mat3"
   ]
  },
  {
   "cell_type": "code",
   "execution_count": 68,
   "metadata": {},
   "outputs": [
    {
     "name": "stdout",
     "output_type": "stream",
     "text": [
      "Array [[29 41 88 54]\n",
      " [30 36 71 89]\n",
      " [22  6 71 75]]\n",
      "[[5.38516481 6.40312424 9.38083152 7.34846923]\n",
      " [5.47722558 6.         8.42614977 9.43398113]\n",
      " [4.69041576 2.44948974 8.42614977 8.66025404]]\n"
     ]
    }
   ],
   "source": [
    "# 1. Create another 2-D array that is the square root of your original array (mat2)\n",
    "import numpy as np\n",
    "mat1 = np.random.randint(100,size=(3,4))\n",
    "print(\"Array\", mat1)\n",
    "mat2 = np.sqrt(mat1)\n",
    "print(mat2)"
   ]
  },
  {
   "cell_type": "code",
   "execution_count": 73,
   "metadata": {},
   "outputs": [
    {
     "name": "stdout",
     "output_type": "stream",
     "text": [
      "In mat1: 11\n"
     ]
    }
   ],
   "source": [
    "# 2. Find how many values are greater than 20 using np.count_nonzero(  ) function ( you can also use np.sum( )\n",
    "count = np.count_nonzero(mat1 > 20)\n",
    "print(\"In mat1:\",count)"
   ]
  },
  {
   "cell_type": "code",
   "execution_count": 81,
   "metadata": {},
   "outputs": [
    {
     "name": "stdout",
     "output_type": "stream",
     "text": [
      "[[ 5772 13816]\n",
      " [ 5455 14183]\n",
      " [ 2059 11595]]\n"
     ]
    }
   ],
   "source": [
    "# 3. Perform a dot product between two 2-D arrays (mat3)\n",
    "mat2 = np.random.randint(100,size=(4,2))\n",
    "mat3 = np.dot(mat1,mat2)\n",
    "print(mat3)"
   ]
  },
  {
   "cell_type": "code",
   "execution_count": 106,
   "metadata": {},
   "outputs": [
    {
     "name": "stdout",
     "output_type": "stream",
     "text": [
      "[]\n",
      "[ 5772 13816  5455 14183  2059 11595]\n"
     ]
    }
   ],
   "source": [
    "# 4. Find all the values that are less than 10 and greater than 30 in mat3\n",
    "print(mat3[mat3<10])\n",
    "print(mat3[mat3>30])"
   ]
  },
  {
   "cell_type": "markdown",
   "metadata": {},
   "source": [
    "## Pandas\n",
    "\n",
    "Check out the pandas-basics file on Blackbaord. \n",
    "pandas documentation is very detailed and useful and contains a [short tutorial](https://pandas.pydata.org/pandas-docs/stable/user_guide/10min.html). You can also check this [Cheatsheet](https://github.com/pandas-dev/pandas/blob/master/doc/cheatsheet/Pandas_Cheat_Sheet.pdf)\n",
    "\n",
    "\n",
    "\n",
    "Now it's your turn to do some exercises and get familiar with Python. First, you are going to answer some questions about the movies dataset we already explored:\n",
    "\n",
    "####  3. Pandas basics with movies_by_year data (2 pts)\n",
    "\n",
    "Download the \"movies_by_year.csv\" file from Blackboard _(Weekly content : Week 6)_\n",
    "\n",
    "1. Get a quick statistical profile of Total_Gross column\n",
    "2. Get the summary statistics (mean,max,min,std) of Total_Gross for movies that were highest grossing movie of the year during 1995 - 2005\n",
    "3. Do the same thing for movies during 2005-2015 period\n",
    "4. What are some insights you gain from this comparison?\n",
    "\n",
    "\n"
   ]
  },
  {
   "cell_type": "code",
   "execution_count": 3,
   "metadata": {},
   "outputs": [],
   "source": [
    "pd.csv(movies_by_year.)"
   ]
  },
  {
   "cell_type": "code",
   "execution_count": 4,
   "metadata": {},
   "outputs": [],
   "source": [
    "# Your code goes here "
   ]
  },
  {
   "cell_type": "markdown",
   "metadata": {},
   "source": [
    "####  4. Pandas basics with risk dataset (2 pts)\n",
    "\n",
    "Download the \"Risk.csv\" file from Blackboard _(Weekly content : Week 6)_\n",
    "\n",
    "1. Find the minimum and maximum values of income\n",
    "2. Find the mean income based on gender\n",
    "3. Draw the histogram of income distribution based on gender\n"
   ]
  },
  {
   "cell_type": "code",
   "execution_count": 5,
   "metadata": {},
   "outputs": [],
   "source": [
    "# Your code goes here "
   ]
  },
  {
   "cell_type": "code",
   "execution_count": 6,
   "metadata": {},
   "outputs": [],
   "source": [
    "# Your code goes here "
   ]
  },
  {
   "cell_type": "markdown",
   "metadata": {},
   "source": [
    "####  5. EDA with famous baby name dataset (3 pts)\n",
    "\n",
    "For downloading the data set go to [https://www.ssa.gov/oact/babynames/state/namesbystate.zip]\n",
    "or use [this box link](https://app.box.com/s/i52qu3mgmpwvikiggjmwwydgycw4d4bt) to access all the text files.\n",
    "\n",
    "1. How many men and women were counted?\n",
    "2. Count unique boy/girl names.\n",
    "3. Find top 10 popular names between 2000 - 2015 and plot their trend \n",
    "4. Create a new column titled namelength ( you can use str.len()). Then plot the averge length of names\n"
   ]
  },
  {
   "cell_type": "code",
   "execution_count": 7,
   "metadata": {},
   "outputs": [],
   "source": [
    "# Your code goes here "
   ]
  },
  {
   "cell_type": "code",
   "execution_count": 8,
   "metadata": {},
   "outputs": [],
   "source": [
    "# Your code goes here "
   ]
  },
  {
   "cell_type": "code",
   "execution_count": null,
   "metadata": {},
   "outputs": [],
   "source": []
  }
 ],
 "metadata": {
  "kernelspec": {
   "display_name": "Python 3",
   "language": "python",
   "name": "python3"
  },
  "language_info": {
   "codemirror_mode": {
    "name": "ipython",
    "version": 3
   },
   "file_extension": ".py",
   "mimetype": "text/x-python",
   "name": "python",
   "nbconvert_exporter": "python",
   "pygments_lexer": "ipython3",
   "version": "3.8.5"
  }
 },
 "nbformat": 4,
 "nbformat_minor": 2
}
